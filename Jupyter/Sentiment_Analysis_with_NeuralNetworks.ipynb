{
 "cells": [
  {
   "cell_type": "code",
   "execution_count": 19,
   "id": "2955ce09-35a6-4021-bef4-543fddfceac9",
   "metadata": {
    "scrolled": true
   },
   "outputs": [],
   "source": [
    "import tensorflow as tf\n",
    "from tensorflow.keras.preprocessing.text import Tokenizer\n",
    "from tensorflow.keras.preprocessing.sequence import pad_sequences\n",
    "from tensorflow.keras.models import Sequential\n",
    "from tensorflow.keras.layers import Embedding, LSTM, Dense\n",
    "from sklearn.model_selection import train_test_split\n",
    "import pandas as pd\n",
    "file_path = 'pre_processed_data.csv'\n",
    "df = pd.read_csv(file_path)\n"
   ]
  },
  {
   "cell_type": "code",
   "execution_count": 20,
   "id": "9eaed851-e072-4937-9ee1-1a064c20a0f1",
   "metadata": {},
   "outputs": [],
   "source": [
    "def map_sentiment(rating):\n",
    "    if rating >= 4.0:\n",
    "        return 'positive'\n",
    "    elif rating <= 2.0:\n",
    "        return 'negative'\n",
    "    else:\n",
    "        return 'neutral'\n",
    "\n",
    "df['sentiment'] = df['rating'].apply(map_sentiment)\n"
   ]
  },
  {
   "cell_type": "code",
   "execution_count": 21,
   "id": "e38683f0-a6ae-45e1-bf1f-97d004ef0aea",
   "metadata": {},
   "outputs": [
    {
     "name": "stdout",
     "output_type": "stream",
     "text": [
      "Epoch 1/10\n",
      "25/25 [==============================] - 2s 27ms/step - loss: 0.5640 - accuracy: 0.8778 - val_loss: 0.4234 - val_accuracy: 0.8870\n",
      "Epoch 2/10\n",
      "25/25 [==============================] - 0s 16ms/step - loss: 0.3493 - accuracy: 0.9150 - val_loss: 0.4218 - val_accuracy: 0.8870\n",
      "Epoch 3/10\n",
      "25/25 [==============================] - 0s 16ms/step - loss: 0.3435 - accuracy: 0.9150 - val_loss: 0.4428 - val_accuracy: 0.8870\n",
      "Epoch 4/10\n",
      "25/25 [==============================] - 0s 14ms/step - loss: 0.3482 - accuracy: 0.9150 - val_loss: 0.4299 - val_accuracy: 0.8870\n",
      "Epoch 5/10\n",
      "25/25 [==============================] - 0s 14ms/step - loss: 0.3460 - accuracy: 0.9150 - val_loss: 0.4199 - val_accuracy: 0.8870\n",
      "Epoch 6/10\n",
      "25/25 [==============================] - 0s 16ms/step - loss: 0.3441 - accuracy: 0.9150 - val_loss: 0.4206 - val_accuracy: 0.8870\n",
      "Epoch 7/10\n",
      "25/25 [==============================] - 1s 20ms/step - loss: 0.3404 - accuracy: 0.9150 - val_loss: 0.4328 - val_accuracy: 0.8870\n",
      "Epoch 8/10\n",
      "25/25 [==============================] - 1s 21ms/step - loss: 0.3357 - accuracy: 0.9169 - val_loss: 0.4344 - val_accuracy: 0.8870\n",
      "Epoch 9/10\n",
      "25/25 [==============================] - 0s 17ms/step - loss: 0.3310 - accuracy: 0.9188 - val_loss: 0.4169 - val_accuracy: 0.8870\n",
      "Epoch 10/10\n",
      "25/25 [==============================] - 0s 16ms/step - loss: 0.3336 - accuracy: 0.9194 - val_loss: 0.4267 - val_accuracy: 0.8870\n",
      "14/14 [==============================] - 0s 5ms/step - loss: 0.4306 - accuracy: 0.8914\n",
      "Test Loss: 0.43063050508499146\n",
      "Test Accuracy: 0.8914027214050293\n"
     ]
    }
   ],
   "source": [
    "\n",
    "tf.compat.v1.logging.set_verbosity(tf.compat.v1.logging.ERROR)\n",
    "\n",
    "X = df['content']\n",
    "y = df['sentiment']\n",
    "\n",
    "# Map sentiment labels to numeric values\n",
    "label_mapping = {'positive': 2, 'neutral': 1, 'negative': 0}\n",
    "y = y.map(label_mapping)\n",
    "\n",
    "# Split data into training and testing sets\n",
    "X_train, X_test, y_train, y_test = train_test_split(X, y, test_size=0.2, random_state=42)\n",
    "\n",
    "# Tokenize and convert text data to sequences\n",
    "tokenizer = Tokenizer()\n",
    "tokenizer.fit_on_texts(X_train)\n",
    "X_train_sequences = tokenizer.texts_to_sequences(X_train)\n",
    "X_test_sequences = tokenizer.texts_to_sequences(X_test)\n",
    "\n",
    "max_sequence_length = 100\n",
    "X_train_padded = pad_sequences(X_train_sequences, maxlen=max_sequence_length, padding='post')\n",
    "X_test_padded = pad_sequences(X_test_sequences, maxlen=max_sequence_length, padding='post')\n",
    "\n",
    "# Define model architecture\n",
    "embedding_dim = 50\n",
    "model = Sequential([\n",
    "    Embedding(input_dim=len(tokenizer.word_index) + 1, output_dim=embedding_dim, input_length=max_sequence_length),\n",
    "    LSTM(units=128),\n",
    "    Dense(units=3, activation='softmax')\n",
    "])\n",
    "\n",
    "# Compile model\n",
    "model.compile(optimizer='adam', loss='sparse_categorical_crossentropy', metrics=['accuracy'])\n",
    "\n",
    "# Train model\n",
    "model.fit(X_train_padded, y_train, epochs=10, batch_size=64, validation_split=0.1)\n",
    "\n",
    "# Evaluate model on test data\n",
    "loss, accuracy = model.evaluate(X_test_padded, y_test)\n",
    "print(\"Test Loss:\", loss)\n",
    "print(\"Test Accuracy:\", accuracy)\n"
   ]
  }
 ],
 "metadata": {
  "kernelspec": {
   "display_name": "Python (GPU)",
   "language": "python",
   "name": "gpu"
  },
  "language_info": {
   "codemirror_mode": {
    "name": "ipython",
    "version": 3
   },
   "file_extension": ".py",
   "mimetype": "text/x-python",
   "name": "python",
   "nbconvert_exporter": "python",
   "pygments_lexer": "ipython3",
   "version": "3.9.19"
  }
 },
 "nbformat": 4,
 "nbformat_minor": 5
}
